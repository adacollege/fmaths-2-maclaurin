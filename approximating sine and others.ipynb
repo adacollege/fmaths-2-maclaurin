{
 "cells": [
  {
   "cell_type": "code",
   "execution_count": null,
   "metadata": {},
   "outputs": [],
   "source": [
    "import matplotlib.pyplot as plt\n",
    "import numpy as np\n",
    "%matplotlib inline"
   ]
  },
  {
   "cell_type": "markdown",
   "metadata": {},
   "source": [
    "We're going to try and make a *polynomial* function that gives a good approximation to the `sine` function.\n",
    "\n",
    "We'll start with $f:x\\longrightarrow x$. It's not good but it's at least correct in one specific place."
   ]
  },
  {
   "cell_type": "code",
   "execution_count": null,
   "metadata": {},
   "outputs": [],
   "source": [
    "def f(x):\n",
    "    return x"
   ]
  },
  {
   "cell_type": "markdown",
   "metadata": {},
   "source": [
    "Now we can plot $y=f(x)$ and $y=\\sin(x)$ and compare."
   ]
  },
  {
   "cell_type": "code",
   "execution_count": null,
   "metadata": {
    "scrolled": true
   },
   "outputs": [],
   "source": [
    "# new figure\n",
    "fig = plt.figure()\n",
    "# with one plot\n",
    "ax = fig.add_subplot(1,1,1)\n",
    "# with a y-axis from -2 to 2\n",
    "ax.set_ylim(-2,2)\n",
    "# domain from -2pi to 2pi\n",
    "domain = np.linspace(-2*np.pi,2*np.pi,100)\n",
    "# plot the sine function\n",
    "ax.plot(domain, np.sin(domain))\n",
    "# plot our approximation\n",
    "ax.plot(domain, f(domain))"
   ]
  },
  {
   "cell_type": "markdown",
   "metadata": {},
   "source": [
    "# Task 1\n",
    "\n",
    "By trial and improvement, can you refine our definition of $f$ until it fits most of the blue curve?"
   ]
  },
  {
   "cell_type": "markdown",
   "metadata": {},
   "source": [
    "# Task 2\n",
    "\n",
    "Now how about $\\cos(x)$?"
   ]
  },
  {
   "cell_type": "markdown",
   "metadata": {},
   "source": [
    "# Task 3\n",
    "\n",
    "A really tough one, how about $e^x$?"
   ]
  }
 ],
 "metadata": {
  "kernelspec": {
   "display_name": "Python 3",
   "language": "python",
   "name": "python3"
  },
  "language_info": {
   "codemirror_mode": {
    "name": "ipython",
    "version": 3
   },
   "file_extension": ".py",
   "mimetype": "text/x-python",
   "name": "python",
   "nbconvert_exporter": "python",
   "pygments_lexer": "ipython3",
   "version": "3.6.5"
  }
 },
 "nbformat": 4,
 "nbformat_minor": 2
}
